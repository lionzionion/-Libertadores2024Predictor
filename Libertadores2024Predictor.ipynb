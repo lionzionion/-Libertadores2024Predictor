{
  "nbformat": 4,
  "nbformat_minor": 0,
  "metadata": {
    "colab": {
      "provenance": []
    },
    "kernelspec": {
      "name": "python3",
      "display_name": "Python 3"
    },
    "language_info": {
      "name": "python"
    }
  },
  "cells": [
    {
      "cell_type": "markdown",
      "source": [
        "# 1. Load Data:"
      ],
      "metadata": {
        "id": "ZJZ2x1AUP2fQ"
      }
    },
    {
      "cell_type": "code",
      "source": [
        "data = pd.read_csv('Libertadores_Matches.csv')"
      ],
      "metadata": {
        "id": "1A_D5_lJP-tE"
      },
      "execution_count": 68,
      "outputs": []
    },
    {
      "cell_type": "markdown",
      "source": [
        "# 2. Importing Libraries"
      ],
      "metadata": {
        "id": "3--CpY1YQDzz"
      }
    },
    {
      "cell_type": "code",
      "execution_count": 69,
      "metadata": {
        "id": "Vs6swOt-Pfhi"
      },
      "outputs": [],
      "source": [
        "import pandas as pd\n",
        "from sklearn.model_selection import train_test_split\n",
        "from sklearn.ensemble import RandomForestClassifier\n",
        "from sklearn.metrics import accuracy_score\n",
        "import numpy as np\n",
        "\n",
        "# Create a new binary outcome variable\n",
        "data['winner'] = np.where(data['home_goal'] > data['away_goal'], 'home_team', np.where(data['away_goal'] > data['home_goal'], 'away_team', 'draw'))\n",
        "\n",
        "# Extract the new target variable\n",
        "target = data['winner']\n",
        "\n",
        "# Convert the target variable to numerical using one-hot encoding\n",
        "target = pd.get_dummies(target)\n"
      ]
    },
    {
      "cell_type": "markdown",
      "source": [
        "# 3. Data Preprocessing:"
      ],
      "metadata": {
        "id": "94tnNIE7QJvp"
      }
    },
    {
      "cell_type": "code",
      "source": [
        "# Data Preprocessing\n",
        "features = data[['home_team', 'away_team', 'season', 'stage']]\n",
        "\n",
        "# Convert categorical variables to numerical using one-hot encoding\n",
        "features = pd.get_dummies(features, columns=['home_team', 'away_team', 'season', 'stage'])\n",
        "\n",
        "# Assuming 'home_goal' and 'away_goal' are the target variables\n",
        "target_home = data['home_goal']\n",
        "target_away = data['away_goal']"
      ],
      "metadata": {
        "id": "HfXXvi5rQPho"
      },
      "execution_count": 70,
      "outputs": []
    },
    {
      "cell_type": "code",
      "source": [
        "# Create a new binary outcome variable\n",
        "data['winner'] = np.where(data['home_goal'] > data['away_goal'], 'home_team', np.where(data['away_goal'] > data['home_goal'], 'away_team', 'draw'))\n",
        "\n",
        "# Extract the new target variable\n",
        "target = data['winner']\n",
        "\n",
        "# Convert the target variable to numerical using one-hot encoding\n",
        "target = pd.get_dummies(target)"
      ],
      "metadata": {
        "id": "evNH7CiJQs6U"
      },
      "execution_count": 71,
      "outputs": []
    },
    {
      "cell_type": "markdown",
      "source": [
        "# 4. Data Visualization"
      ],
      "metadata": {
        "id": "WVCQyKOqRbyY"
      }
    },
    {
      "cell_type": "code",
      "source": [
        "import matplotlib.pyplot as plt\n",
        "import seaborn as sns\n",
        "\n",
        "# Example: Plot the distribution of home goals and away goals\n",
        "plt.figure(figsize=(10, 6))\n",
        "\n",
        "sns.histplot(data['home_goal'], bins=20, color='blue', label='Home Goals', alpha=0.7)\n",
        "sns.histplot(data['away_goal'], bins=20, color='red', label='Away Goals', alpha=0.7)\n",
        "\n",
        "plt.title('Distribution of Home and Away Goals')\n",
        "plt.xlabel('Goals')\n",
        "plt.ylabel('Frequency')\n",
        "plt.legend()\n",
        "plt.show()\n"
      ],
      "metadata": {
        "colab": {
          "base_uri": "https://localhost:8080/",
          "height": 564
        },
        "id": "NFLXAbpkRDsk",
        "outputId": "b5845e57-d638-4abe-ab52-4ca42ec45bb3"
      },
      "execution_count": 72,
      "outputs": [
        {
          "output_type": "display_data",
          "data": {
            "text/plain": [
              "<Figure size 1000x600 with 1 Axes>"
            ],
            "image/png": "[encoded data removed]"
          },
          "metadata": {}
        }
      ]
    },
    {
      "cell_type": "code",
      "source": [
        "# Display the first 10 rows of the DataFrame\n",
        "print(data.head(10))\n"
      ],
      "metadata": {
        "colab": {
          "base_uri": "https://localhost:8080/"
        },
        "id": "s9yGfH9LRUmi",
        "outputId": "d6fbe3f4-5351-4f98-c772-48906814ef8a"
      },
      "execution_count": 73,
      "outputs": [
        {
          "output_type": "stream",
          "name": "stdout",
          "text": [
            "              datetime       home_team       away_team home_goal away_goal  \\\n",
            "0  2013-02-12 20:15:00  Nacional (URU)   Barcelona-EQU         2         2   \n",
            "1  2013-02-13 22:00:00    Boca Juniors          Toluca         1         2   \n",
            "2  2013-02-19 23:45:00          Toluca  Nacional (URU)         2         3   \n",
            "3  2013-02-27 19:45:00   Barcelona-EQU    Boca Juniors         1         2   \n",
            "4  2013-03-07 00:15:00          Toluca   Barcelona-EQU         1         1   \n",
            "5  2013-03-07 21:30:00    Boca Juniors  Nacional (URU)         0         1   \n",
            "6  2013-03-13 19:45:00   Barcelona-EQU          Toluca         0         0   \n",
            "7  2013-03-14 19:15:00  Nacional (URU)    Boca Juniors         0         1   \n",
            "8  2013-04-03 19:45:00    Boca Juniors   Barcelona-EQU         1         0   \n",
            "9  2013-04-04 19:15:00  Nacional (URU)          Toluca         4         0   \n",
            "\n",
            "   season        stage     winner  \n",
            "0  2013.0  group stage       draw  \n",
            "1  2013.0  group stage  away_team  \n",
            "2  2013.0  group stage  away_team  \n",
            "3  2013.0  group stage  away_team  \n",
            "4  2013.0  group stage       draw  \n",
            "5  2013.0  group stage  away_team  \n",
            "6  2013.0  group stage       draw  \n",
            "7  2013.0  group stage  away_team  \n",
            "8  2013.0  group stage  home_team  \n",
            "9  2013.0  group stage  home_team  \n"
          ]
        }
      ]
    },
    {
      "cell_type": "code",
      "source": [
        "# Extract unique team names from both 'home_team' and 'away_team'\n",
        "all_teams = pd.concat([data['home_team'], data['away_team']]).unique()\n",
        "\n",
        "# Display all unique teams\n",
        "print(\"All Unique Teams:\")\n",
        "print(all_teams)\n"
      ],
      "metadata": {
        "colab": {
          "base_uri": "https://localhost:8080/"
        },
        "id": "uLuMQseiaWi0",
        "outputId": "44382206-4857-4990-9001-5f635a4ecf2e"
      },
      "execution_count": 74,
      "outputs": [
        {
          "output_type": "stream",
          "name": "stdout",
          "text": [
            "All Unique Teams:\n",
            "['Nacional (URU)' 'Boca Juniors' 'Toluca' 'Barcelona-EQU' 'Palmeiras'\n",
            " 'Tigre' 'Sporting Cristal' 'Libertad' 'Atlético-MG' 'The Strongest'\n",
            " 'Arsenal Sarandí' 'São Paulo' 'Emelec' 'Deportes Iquique' 'Peñarol'\n",
            " 'Vélez Sarsfield' 'Millonarios' 'San José' 'Tijuana' 'Corinthians'\n",
            " 'Real Atlético' 'Deportes Tolima' 'Cerro Porteño' 'Ind. Santa Fe'\n",
            " 'Universidad de Chile' 'Newells Old Boys' 'Olimpia-PAR' 'Deportivo Lara'\n",
            " 'Caracas' 'Grêmio' 'Huachipato' 'Fluminense' 'Universitario (PER)'\n",
            " 'Atlético-PR' 'Botafogo' 'Independiente Del Valle' 'Unión Española'\n",
            " 'San Lorenzo' 'Deportivo Cali' 'Lanús' \"O'Higgins\" 'Zamora'\n",
            " 'Nacional (PAR)' 'Real Garcilaso' 'Defensor Sporting' 'Cruzeiro'\n",
            " 'Atlético Nacional' 'León' 'Bolívar' 'Flamengo' 'Santos Laguna'\n",
            " 'Deportivo Anzoátegui' 'Atlas' 'Colo-Colo' 'Danubio' 'Huracán'\n",
            " 'Universitario de Sucre' 'Mineros de Guaiana' 'Internacional'\n",
            " 'Montevideo Wanderers' 'Palestino' 'Tigres' 'River Plate' 'Juan Aurich'\n",
            " 'Estudiantes' 'Deportivo Táchira' 'Guaraní (PAR)' 'Racing Club'\n",
            " 'Trujillanos (VEN)' 'River Plate-URU' 'Rosario Central' 'Melgar'\n",
            " 'Independiente del Valle' 'LDU' 'Pumas' 'Cobresal' 'Santos'\n",
            " 'Independiente Medellín' 'Universidad Católica' 'Jorge Wilstermann'\n",
            " 'Atlético Tucumán' 'Godoy Cruz' 'Sport Boys' 'Zulia' 'Chapecoense'\n",
            " 'Monagas' 'Delfín-EQU' 'Vasco' 'Independiente' 'Alianza Lima'\n",
            " 'Junior de Barranquilla' 'Universidad de Concepción' 'Athletico'\n",
            " 'Guaraní-PAR' 'Binacional' 'América de Cali' 'Estudiantes de Mérida'\n",
            " 'Nacional-URU' 'Defensa y Justicia' 'Delfín' 'Libertad-PAR'\n",
            " 'Universitario-PER' 'Always Ready' 'Rentistas ' 'Argentinos Juniors'\n",
            " 'Unión La Calera' 'La Guaira' 'Independiente Petrolero'\n",
            " 'Red Bull Bragantino' 'América-MG' 'Tolima' 'Fortaleza' 'Colón'\n",
            " 'Talleres']\n"
          ]
        }
      ]
    },
    {
      "cell_type": "markdown",
      "source": [
        "# 5. Train-Test Split:"
      ],
      "metadata": {
        "id": "8HapFNQySCTd"
      }
    },
    {
      "cell_type": "code",
      "source": [
        "X_train, X_test, y_train, y_test = train_test_split(features, data['winner'], test_size=0.2, random_state=42)"
      ],
      "metadata": {
        "id": "lQI0yFKSR_Xf"
      },
      "execution_count": 75,
      "outputs": []
    },
    {
      "cell_type": "markdown",
      "source": [
        "# 6. Model Selection and Training:"
      ],
      "metadata": {
        "id": "fGn8I7wXSKMR"
      }
    },
    {
      "cell_type": "code",
      "source": [
        "model = RandomForestClassifier(n_estimators=100, random_state=42)\n",
        "model.fit(X_train, y_train)"
      ],
      "metadata": {
        "colab": {
          "base_uri": "https://localhost:8080/",
          "height": 75
        },
        "id": "x62nPXkdSPOb",
        "outputId": "672e75bb-a2c1-47b5-d5d0-dc6b393b1cb6"
      },
      "execution_count": 76,
      "outputs": [
        {
          "output_type": "execute_result",
          "data": {
            "text/plain": [
              "RandomForestClassifier(random_state=42)"
            ],
            "text/html": [
              "<style>#sk-container-id-2 {color: black;background-color: white;}#sk-container-id-2 pre{padding: 0;}#sk-container-id-2 div.sk-toggleable {background-color: white;}#sk-container-id-2 label.sk-toggleable__label {cursor: pointer;display: block;width: 100%;margin-bottom: 0;padding: 0.3em;box-sizing: border-box;text-align: center;}#sk-container-id-2 label.sk-toggleable__label-arrow:before {content: \"▸\";float: left;margin-right: 0.25em;color: #696969;}#sk-container-id-2 label.sk-toggleable__label-arrow:hover:before {color: black;}#sk-container-id-2 div.sk-estimator:hover label.sk-toggleable__label-arrow:before {color: black;}#sk-container-id-2 div.sk-toggleable__content {max-height: 0;max-width: 0;overflow: hidden;text-align: left;background-color: #f0f8ff;}#sk-container-id-2 div.sk-toggleable__content pre {margin: 0.2em;color: black;border-radius: 0.25em;background-color: #f0f8ff;}#sk-container-id-2 input.sk-toggleable__control:checked~div.sk-toggleable__content {max-height: 200px;max-width: 100%;overflow: auto;}#sk-container-id-2 input.sk-toggleable__control:checked~label.sk-toggleable__label-arrow:before {content: \"▾\";}#sk-container-id-2 div.sk-estimator input.sk-toggleable__control:checked~label.sk-toggleable__label {background-color: #d4ebff;}#sk-container-id-2 div.sk-label input.sk-toggleable__control:checked~label.sk-toggleable__label {background-color: #d4ebff;}#sk-container-id-2 input.sk-hidden--visually {border: 0;clip: rect(1px 1px 1px 1px);clip: rect(1px, 1px, 1px, 1px);height: 1px;margin: -1px;overflow: hidden;padding: 0;position: absolute;width: 1px;}#sk-container-id-2 div.sk-estimator {font-family: monospace;background-color: #f0f8ff;border: 1px dotted black;border-radius: 0.25em;box-sizing: border-box;margin-bottom: 0.5em;}#sk-container-id-2 div.sk-estimator:hover {background-color: #d4ebff;}#sk-container-id-2 div.sk-parallel-item::after {content: \"\";width: 100%;border-bottom: 1px solid gray;flex-grow: 1;}#sk-container-id-2 div.sk-label:hover label.sk-toggleable__label {background-color: #d4ebff;}#sk-container-id-2 div.sk-serial::before {content: \"\";position: absolute;border-left: 1px solid gray;box-sizing: border-box;top: 0;bottom: 0;left: 50%;z-index: 0;}#sk-container-id-2 div.sk-serial {display: flex;flex-direction: column;align-items: center;background-color: white;padding-right: 0.2em;padding-left: 0.2em;position: relative;}#sk-container-id-2 div.sk-item {position: relative;z-index: 1;}#sk-container-id-2 div.sk-parallel {display: flex;align-items: stretch;justify-content: center;background-color: white;position: relative;}#sk-container-id-2 div.sk-item::before, #sk-container-id-2 div.sk-parallel-item::before {content: \"\";position: absolute;border-left: 1px solid gray;box-sizing: border-box;top: 0;bottom: 0;left: 50%;z-index: -1;}#sk-container-id-2 div.sk-parallel-item {display: flex;flex-direction: column;z-index: 1;position: relative;background-color: white;}#sk-container-id-2 div.sk-parallel-item:first-child::after {align-self: flex-end;width: 50%;}#sk-container-id-2 div.sk-parallel-item:last-child::after {align-self: flex-start;width: 50%;}#sk-container-id-2 div.sk-parallel-item:only-child::after {width: 0;}#sk-container-id-2 div.sk-dashed-wrapped {border: 1px dashed gray;margin: 0 0.4em 0.5em 0.4em;box-sizing: border-box;padding-bottom: 0.4em;background-color: white;}#sk-container-id-2 div.sk-label label {font-family: monospace;font-weight: bold;display: inline-block;line-height: 1.2em;}#sk-container-id-2 div.sk-label-container {text-align: center;}#sk-container-id-2 div.sk-container {/* jupyter's `normalize.less` sets `[hidden] { display: none; }` but bootstrap.min.css set `[hidden] { display: none !important; }` so we also need the `!important` here to be able to override the default hidden behavior on the sphinx rendered scikit-learn.org. See: https://github.com/scikit-learn/scikit-learn/issues/21755 */display: inline-block !important;position: relative;}#sk-container-id-2 div.sk-text-repr-fallback {display: none;}</style><div id=\"sk-container-id-2\" class=\"sk-top-container\"><div class=\"sk-text-repr-fallback\"><pre>RandomForestClassifier(random_state=42)</pre><b>In a Jupyter environment, please rerun this cell to show the HTML representation or trust the notebook. <br />On GitHub, the HTML representation is unable to render, please try loading this page with nbviewer.org.</b></div><div class=\"sk-container\" hidden><div class=\"sk-item\"><div class=\"sk-estimator sk-toggleable\"><input class=\"sk-toggleable__control sk-hidden--visually\" id=\"sk-estimator-id-2\" type=\"checkbox\" checked><label for=\"sk-estimator-id-2\" class=\"sk-toggleable__label sk-toggleable__label-arrow\">RandomForestClassifier</label><div class=\"sk-toggleable__content\"><pre>RandomForestClassifier(random_state=42)</pre></div></div></div></div></div>"
            ]
          },
          "metadata": {},
          "execution_count": 76
        }
      ]
    },
    {
      "cell_type": "markdown",
      "source": [
        "# 7. Model Evaluation:"
      ],
      "metadata": {
        "id": "G78XRrAPSW3L"
      }
    },
    {
      "cell_type": "code",
      "source": [
        "predictions = model.predict(X_test)\n",
        "accuracy = accuracy_score(y_test, predictions)\n",
        "print(f\"Accuracy: {accuracy}\")"
      ],
      "metadata": {
        "colab": {
          "base_uri": "https://localhost:8080/"
        },
        "id": "jKzhxHG1SaYE",
        "outputId": "795303b3-8550-4a7e-e1bc-7d0c6802644f"
      },
      "execution_count": 77,
      "outputs": [
        {
          "output_type": "stream",
          "name": "stdout",
          "text": [
            "Accuracy: 0.46613545816733065\n"
          ]
        }
      ]
    },
    {
      "cell_type": "markdown",
      "source": [
        "# 8.Make Predictions for 2024:"
      ],
      "metadata": {
        "id": "qK8SZoz2Sw_6"
      }
    },
    {
      "cell_type": "code",
      "source": [
        "predicted_winners = [\n",
        "    'Nacional (URU)', 'Boca Juniors', 'Toluca', 'Barcelona-EQU', 'Palmeiras',\n",
        "    'Tigre', 'Sporting Cristal', 'Libertad', 'Atlético-MG', 'The Strongest',\n",
        "    'Arsenal Sarandí', 'São Paulo', 'Emelec', 'Deportes Iquique', 'Peñarol',\n",
        "    'Vélez Sarsfield', 'Millonarios', 'San José', 'Tijuana', 'Corinthians',\n",
        "    'Real Atlético', 'Deportes Tolima', 'Cerro Porteño', 'Ind. Santa Fe',\n",
        "    'Universidad de Chile', 'Newells Old Boys', 'Olimpia-PAR', 'Deportivo Lara',\n",
        "    'Caracas', 'Grêmio', 'Huachipato', 'Fluminense', 'Universitario (PER)',\n",
        "    'Atlético-PR', 'Botafogo', 'Independiente Del Valle', 'Unión Española',\n",
        "    'San Lorenzo', 'Deportivo Cali', 'Lanús', \"O'Higgins\", 'Zamora',\n",
        "    'Nacional (PAR)', 'Real Garcilaso', 'Defensor Sporting', 'Cruzeiro',\n",
        "    'Atlético Nacional', 'León', 'Bolívar', 'Flamengo', 'Santos Laguna',\n",
        "    'Deportivo Anzoátegui', 'Atlas', 'Colo-Colo', 'Danubio', 'Huracán',\n",
        "    'Universitario de Sucre', 'Mineros de Guaiana', 'Internacional',\n",
        "    'Montevideo Wanderers', 'Palestino', 'Tigres', 'River Plate', 'Juan Aurich',\n",
        "    'Estudiantes', 'Deportivo Táchira', 'Guaraní (PAR)', 'Racing Club',\n",
        "    'Trujillanos (VEN)', 'River Plate-URU', 'Rosario Central', 'Melgar',\n",
        "    'Independiente del Valle', 'LDU', 'Pumas', 'Cobresal', 'Santos',\n",
        "    'Independiente Medellín', 'Universidad Católica', 'Jorge Wilstermann',\n",
        "    'Atlético Tucumán', 'Godoy Cruz', 'Sport Boys', 'Zulia', 'Chapecoense',\n",
        "    'Monagas', 'Delfín-EQU', 'Vasco', 'Independiente', 'Alianza Lima',\n",
        "    'Junior de Barranquilla', 'Universidad de Concepción', 'Athletico',\n",
        "    'Guaraní-PAR', 'Binacional', 'América de Cali', 'Estudiantes de Mérida',\n",
        "    'Nacional-URU', 'Defensa y Justicia', 'Delfín', 'Libertad-PAR',\n",
        "    'Universitario-PER', 'Always Ready', 'Rentistas ', 'Argentinos Juniors',\n",
        "    'Unión La Calera', 'La Guaira', 'Independiente Petrolero',\n",
        "    'Red Bull Bragantino', 'América-MG', 'Tolima', 'Fortaleza', 'Colón',\n",
        "    'Talleres'\n",
        "]\n",
        "\n",
        "# Create a DataFrame with the predicted winners\n",
        "actual_winners_df = pd.DataFrame({'predicted_winner': predicted_winners})\n",
        "\n",
        "teams_data = pd.read_csv('Libertadores_Matches.csv')\n",
        "\n",
        "# Print the column names in both DataFrames\n",
        "print(\"Columns in actual_winners_df:\", actual_winners_df.columns)\n",
        "print(\"Columns in teams_data:\", teams_data.columns)\n",
        "\n",
        "# Adjust the column names based on the actual structure of your DataFrames\n",
        "merged_data_home = pd.merge(actual_winners_df, teams_data, left_on='predicted_winner', right_on='home_team', how='left')\n",
        "merged_data_away = pd.merge(actual_winners_df, teams_data, left_on='predicted_winner', right_on='away_team', how='left')\n",
        "\n",
        "# Concatenate the two merged DataFrames to cover both 'home_team' and 'away_team'\n",
        "merged_data = pd.concat([merged_data_home, merged_data_away])\n",
        "\n",
        "# Print the actual names of the ultimate winner\n",
        "ultimate_winner_name = merged_data['predicted_winner'].mode().iloc[0]\n",
        "print(f\"The actual ultimate winner of Libertadores 2024 is: {ultimate_winner_name}\")\n",
        "\n"
      ],
      "metadata": {
        "colab": {
          "base_uri": "https://localhost:8080/"
        },
        "id": "dTAE5pvHYGQe",
        "outputId": "23a3163b-3f65-4123-f14d-9d3c695dc5dd"
      },
      "execution_count": 78,
      "outputs": [
        {
          "output_type": "stream",
          "name": "stdout",
          "text": [
            "Columns in actual_winners_df: Index(['predicted_winner'], dtype='object')\n",
            "Columns in teams_data: Index(['datetime', 'home_team', 'away_team', 'home_goal', 'away_goal',\n",
            "       'season', 'stage'],\n",
            "      dtype='object')\n",
            "The actual ultimate winner of Libertadores 2024 is: River Plate\n"
          ]
        }
      ]
    }
  ]
}